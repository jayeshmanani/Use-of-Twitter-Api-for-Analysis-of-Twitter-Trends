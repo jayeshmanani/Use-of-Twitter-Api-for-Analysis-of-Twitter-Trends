{
 "cells": [
  {
   "cell_type": "markdown",
   "metadata": {},
   "source": [
    "# Twitter API Access \n",
    "### Here You will have to first go to this website and get started with the first app \n",
    "\n",
    "--> https://developer.twitter.com/en/apps\n",
    "\n",
    "#### Before going to the link just login with your twitter account and then click on the link. Then after clicking on the link click on Create a Developer Account. Go ahead with the options. Set Account name. Select Your country. Write 300 words description for using the API access.  Then read and accept the terms and conditions And Submit Application. Then go to Keys and Tokens. there you see Consumer API keys and Access Token details. For Access Tokens generation you have to click on generate the Access Token. Then write note it down and set at Consumet Key, Consumer Secret, Access Token, Access Token Secret accordingly.\n",
    "\n",
    "### Do not share it (Access Keys and Consumer Keys) with anybody.\n"
   ]
  },
  {
   "cell_type": "markdown",
   "metadata": {},
   "source": [
    "### Import the Pickle and Os libraries of the Python"
   ]
  },
  {
   "cell_type": "code",
   "execution_count": 14,
   "metadata": {},
   "outputs": [],
   "source": [
    "import pickle\n",
    "import os"
   ]
  },
  {
   "cell_type": "code",
   "execution_count": 15,
   "metadata": {},
   "outputs": [],
   "source": [
    "if not os.path.exists('secret_twitter_credentials.pk1'):\n",
    "    Twitter = {}\n",
    "    Twitter['Consumer Key'] = ''\n",
    "    Twitter['Consumer Secret'] = ''\n",
    "    Twitter['Access Token'] = ''\n",
    "    Twitter['Access Token Secret'] = ''\n",
    "    with open('secret_twitter_credentials.pkl','wb') as f:\n",
    "        pickle.dump(Twitter,f)\n",
    "else:\n",
    "    Twitter = pickle.load(open('secret_twitter_credentials.pk1','rb'))"
   ]
  },
  {
   "cell_type": "markdown",
   "metadata": {},
   "source": [
    "#### Install the Twitter package for interface with the Twitter API"
   ]
  },
  {
   "cell_type": "code",
   "execution_count": 1,
   "metadata": {},
   "outputs": [
    {
     "name": "stdout",
     "output_type": "stream",
     "text": [
      "Requirement already satisfied: twitter in c:\\users\\an unstoppable\\anaconda3\\lib\\site-packages (1.18.0)\n"
     ]
    }
   ],
   "source": [
    "!pip install twitter"
   ]
  },
  {
   "cell_type": "markdown",
   "metadata": {},
   "source": [
    "## Authorizing the Application to Access the Twitter Account Data"
   ]
  },
  {
   "cell_type": "code",
   "execution_count": 17,
   "metadata": {},
   "outputs": [
    {
     "name": "stdout",
     "output_type": "stream",
     "text": [
      "<twitter.api.Twitter object at 0x0000021B8D5EF5F8>\n"
     ]
    }
   ],
   "source": [
    "import twitter\n",
    "auth = twitter.oauth.OAuth(Twitter['Access Token'],\n",
    "                          Twitter['Access Token Secret'],\n",
    "                          Twitter['Consumer Key'],\n",
    "                          Twitter['Consumer Secret'])\n",
    "twitter_api = twitter.Twitter(auth=auth)\n",
    "print(twitter_api)"
   ]
  },
  {
   "cell_type": "markdown",
   "metadata": {},
   "source": [
    "### Retriving Trends\n",
    "\n",
    "##### Use this link to find WOE-ID(Where On Earth ID) \n",
    "\n",
    "http://woeid.rosselliot.co.nz/lookup/us\n",
    "\n",
    "WOE id for world is 1 and for india is 23424848 and for Mumbai is 2295411"
   ]
  },
  {
   "cell_type": "code",
   "execution_count": 21,
   "metadata": {},
   "outputs": [],
   "source": [
    "WORLD_WOE_ID = 1\n",
    "INDIA_WOE_ID = 23424848\n",
    "# I used Mumbai Location for Local WOE Id\n",
    "LOCAL_WOE_ID = 2295411"
   ]
  },
  {
   "cell_type": "markdown",
   "metadata": {},
   "source": [
    "##### Finding the Trends using the Twitter API for World Trends, Indian Trends, And Local Trends (Mumbai Trends) on Twitter"
   ]
  },
  {
   "cell_type": "code",
   "execution_count": 22,
   "metadata": {},
   "outputs": [],
   "source": [
    "world_trends = twitter_api.trends.place(_id=WORLD_WOE_ID)\n",
    "indian_trends = twitter_api.trends.place(_id=INDIA_WOE_ID)\n",
    "mumbai_trends = twitter_api.trends.place(_id=LOCAL_WOE_ID)"
   ]
  },
  {
   "cell_type": "markdown",
   "metadata": {},
   "source": [
    "This records gives the JSON file as output of the trends. JSON is file format that internet applications use to communicate semi-structured information."
   ]
  },
  {
   "cell_type": "code",
   "execution_count": 27,
   "metadata": {
    "scrolled": false
   },
   "outputs": [],
   "source": [
    "#world_trends[:1]"
   ]
  },
  {
   "cell_type": "markdown",
   "metadata": {},
   "source": [
    "##### Now we look out for Type of the Local trends"
   ]
  },
  {
   "cell_type": "code",
   "execution_count": 30,
   "metadata": {},
   "outputs": [
    {
     "name": "stdout",
     "output_type": "stream",
     "text": [
      "<class 'twitter.api.TwitterListResponse'>\n",
      "['trends', 'as_of', 'created_at', 'locations']\n",
      "[{'name': 'Merry Christmas', 'url': 'http://twitter.com/search?q=%22Merry+Christmas%22', 'promoted_content': None, 'query': '%22Merry+Christmas%22', 'tweet_volume': 3407408}, {'name': '#GinniChatrath', 'url': 'http://twitter.com/search?q=%23GinniChatrath', 'promoted_content': None, 'query': '%23GinniChatrath', 'tweet_volume': None}, {'name': 'Uddhav Thackeray', 'url': 'http://twitter.com/search?q=%22Uddhav+Thackeray%22', 'promoted_content': None, 'query': '%22Uddhav+Thackeray%22', 'tweet_volume': None}, {'name': '#3_दिन_बाद_सलमान_का_जन्मदिन', 'url': 'http://twitter.com/search?q=%233_%E0%A4%A6%E0%A4%BF%E0%A4%A8_%E0%A4%AC%E0%A4%BE%E0%A4%A6_%E0%A4%B8%E0%A4%B2%E0%A4%AE%E0%A4%BE%E0%A4%A8_%E0%A4%95%E0%A4%BE_%E0%A4%9C%E0%A4%A8%E0%A5%8D%E0%A4%AE%E0%A4%A6%E0%A4%BF%E0%A4%A8', 'promoted_content': None, 'query': '%233_%E0%A4%A6%E0%A4%BF%E0%A4%A8_%E0%A4%AC%E0%A4%BE%E0%A4%A6_%E0%A4%B8%E0%A4%B2%E0%A4%AE%E0%A4%BE%E0%A4%A8_%E0%A4%95%E0%A4%BE_%E0%A4%9C%E0%A4%A8%E0%A5%8D%E0%A4%AE%E0%A4%A6%E0%A4%BF%E0%A4%A8', 'tweet_volume': 17605}, {'name': 'Sambit Patra', 'url': 'http://twitter.com/search?q=%22Sambit+Patra%22', 'promoted_content': None, 'query': '%22Sambit+Patra%22', 'tweet_volume': None}, {'name': '#IPurpleYouDay', 'url': 'http://twitter.com/search?q=%23IPurpleYouDay', 'promoted_content': None, 'query': '%23IPurpleYouDay', 'tweet_volume': 316444}, {'name': '#PUNvAWD', 'url': 'http://twitter.com/search?q=%23PUNvAWD', 'promoted_content': None, 'query': '%23PUNvAWD', 'tweet_volume': None}, {'name': '#SilukkuvarpattisingamHIT', 'url': 'http://twitter.com/search?q=%23SilukkuvarpattisingamHIT', 'promoted_content': None, 'query': '%23SilukkuvarpattisingamHIT', 'tweet_volume': None}, {'name': 'Maroof Raza', 'url': 'http://twitter.com/search?q=%22Maroof+Raza%22', 'promoted_content': None, 'query': '%22Maroof+Raza%22', 'tweet_volume': None}, {'name': 'Justice Zora Singh', 'url': 'http://twitter.com/search?q=%22Justice+Zora+Singh%22', 'promoted_content': None, 'query': '%22Justice+Zora+Singh%22', 'tweet_volume': None}, {'name': 'अटल बिहारी वाजपेयी', 'url': 'http://twitter.com/search?q=%22%E0%A4%85%E0%A4%9F%E0%A4%B2+%E0%A4%AC%E0%A4%BF%E0%A4%B9%E0%A4%BE%E0%A4%B0%E0%A5%80+%E0%A4%B5%E0%A4%BE%E0%A4%9C%E0%A4%AA%E0%A5%87%E0%A4%AF%E0%A5%80%22', 'promoted_content': None, 'query': '%22%E0%A4%85%E0%A4%9F%E0%A4%B2+%E0%A4%AC%E0%A4%BF%E0%A4%B9%E0%A4%BE%E0%A4%B0%E0%A5%80+%E0%A4%B5%E0%A4%BE%E0%A4%9C%E0%A4%AA%E0%A5%87%E0%A4%AF%E0%A5%80%22', 'tweet_volume': 10326}, {'name': 'justin langer', 'url': 'http://twitter.com/search?q=%22justin+langer%22', 'promoted_content': None, 'query': '%22justin+langer%22', 'tweet_volume': None}, {'name': 'Rohtak-Rewari', 'url': 'http://twitter.com/search?q=Rohtak-Rewari', 'promoted_content': None, 'query': 'Rohtak-Rewari', 'tweet_volume': None}, {'name': '#देशकामूड', 'url': 'http://twitter.com/search?q=%23%E0%A4%A6%E0%A5%87%E0%A4%B6%E0%A4%95%E0%A4%BE%E0%A4%AE%E0%A5%82%E0%A4%A1', 'promoted_content': None, 'query': '%23%E0%A4%A6%E0%A5%87%E0%A4%B6%E0%A4%95%E0%A4%BE%E0%A4%AE%E0%A5%82%E0%A4%A1', 'tweet_volume': None}, {'name': '#SAvPAK', 'url': 'http://twitter.com/search?q=%23SAvPAK', 'promoted_content': None, 'query': '%23SAvPAK', 'tweet_volume': None}, {'name': '#NationalApprovalRatings', 'url': 'http://twitter.com/search?q=%23NationalApprovalRatings', 'promoted_content': None, 'query': '%23NationalApprovalRatings', 'tweet_volume': None}, {'name': '#DSSExtendingHelpToPoorGirls', 'url': 'http://twitter.com/search?q=%23DSSExtendingHelpToPoorGirls', 'promoted_content': None, 'query': '%23DSSExtendingHelpToPoorGirls', 'tweet_volume': 29930}, {'name': '#SeethakaathiFANTASYticHit', 'url': 'http://twitter.com/search?q=%23SeethakaathiFANTASYticHit', 'promoted_content': None, 'query': '%23SeethakaathiFANTASYticHit', 'tweet_volume': None}, {'name': '#MondayMotivation', 'url': 'http://twitter.com/search?q=%23MondayMotivation', 'promoted_content': None, 'query': '%23MondayMotivation', 'tweet_volume': 79616}, {'name': '#HappyBirthdayAnilKapoor', 'url': 'http://twitter.com/search?q=%23HappyBirthdayAnilKapoor', 'promoted_content': None, 'query': '%23HappyBirthdayAnilKapoor', 'tweet_volume': None}, {'name': '#ViswasamCensoredU', 'url': 'http://twitter.com/search?q=%23ViswasamCensoredU', 'promoted_content': None, 'query': '%23ViswasamCensoredU', 'tweet_volume': 101953}, {'name': '#Indonesia', 'url': 'http://twitter.com/search?q=%23Indonesia', 'promoted_content': None, 'query': '%23Indonesia', 'tweet_volume': 60428}, {'name': '#KisanDiwas', 'url': 'http://twitter.com/search?q=%23KisanDiwas', 'promoted_content': None, 'query': '%23KisanDiwas', 'tweet_volume': None}, {'name': '#MohammedRafi', 'url': 'http://twitter.com/search?q=%23MohammedRafi', 'promoted_content': None, 'query': '%23MohammedRafi', 'tweet_volume': None}, {'name': '#NawazSharif', 'url': 'http://twitter.com/search?q=%23NawazSharif', 'promoted_content': None, 'query': '%23NawazSharif', 'tweet_volume': 24660}, {'name': '#Chhapaak', 'url': 'http://twitter.com/search?q=%23Chhapaak', 'promoted_content': None, 'query': '%23Chhapaak', 'tweet_volume': None}, {'name': '#Sabarimala', 'url': 'http://twitter.com/search?q=%23Sabarimala', 'promoted_content': None, 'query': '%23Sabarimala', 'tweet_volume': 11008}, {'name': '#periyar', 'url': 'http://twitter.com/search?q=%23periyar', 'promoted_content': None, 'query': '%23periyar', 'tweet_volume': None}, {'name': '#IndianIdol10', 'url': 'http://twitter.com/search?q=%23IndianIdol10', 'promoted_content': None, 'query': '%23IndianIdol10', 'tweet_volume': None}, {'name': '#RathYatra', 'url': 'http://twitter.com/search?q=%23RathYatra', 'promoted_content': None, 'query': '%23RathYatra', 'tweet_volume': None}, {'name': '#KanneKalaimaane', 'url': 'http://twitter.com/search?q=%23KanneKalaimaane', 'promoted_content': None, 'query': '%23KanneKalaimaane', 'tweet_volume': None}, {'name': '#BoxingDayTest', 'url': 'http://twitter.com/search?q=%23BoxingDayTest', 'promoted_content': None, 'query': '%23BoxingDayTest', 'tweet_volume': None}, {'name': '#MSDhoni', 'url': 'http://twitter.com/search?q=%23MSDhoni', 'promoted_content': None, 'query': '%23MSDhoni', 'tweet_volume': None}, {'name': '#No1YaariPatrol', 'url': 'http://twitter.com/search?q=%23No1YaariPatrol', 'promoted_content': None, 'query': '%23No1YaariPatrol', 'tweet_volume': None}, {'name': '#EndhanKangalai', 'url': 'http://twitter.com/search?q=%23EndhanKangalai', 'promoted_content': None, 'query': '%23EndhanKangalai', 'tweet_volume': None}, {'name': '#KGFMonsterHit', 'url': 'http://twitter.com/search?q=%23KGFMonsterHit', 'promoted_content': None, 'query': '%23KGFMonsterHit', 'tweet_volume': None}, {'name': '#CBSE', 'url': 'http://twitter.com/search?q=%23CBSE', 'promoted_content': None, 'query': '%23CBSE', 'tweet_volume': None}, {'name': '#Ayodhya', 'url': 'http://twitter.com/search?q=%23Ayodhya', 'promoted_content': None, 'query': '%23Ayodhya', 'tweet_volume': None}, {'name': '#swarooprajsuicide', 'url': 'http://twitter.com/search?q=%23swarooprajsuicide', 'promoted_content': None, 'query': '%23swarooprajsuicide', 'tweet_volume': None}, {'name': '#ChristmasWithMonginis', 'url': 'http://twitter.com/search?q=%23ChristmasWithMonginis', 'promoted_content': None, 'query': '%23ChristmasWithMonginis', 'tweet_volume': None}, {'name': '#FalsafaTrailer', 'url': 'http://twitter.com/search?q=%23FalsafaTrailer', 'promoted_content': None, 'query': '%23FalsafaTrailer', 'tweet_volume': None}, {'name': '#Bakrid', 'url': 'http://twitter.com/search?q=%23Bakrid', 'promoted_content': None, 'query': '%23Bakrid', 'tweet_volume': None}, {'name': '#AdangamaruSuperSuccess', 'url': 'http://twitter.com/search?q=%23AdangamaruSuperSuccess', 'promoted_content': None, 'query': '%23AdangamaruSuperSuccess', 'tweet_volume': None}, {'name': '#yearender2018', 'url': 'http://twitter.com/search?q=%23yearender2018', 'promoted_content': None, 'query': '%23yearender2018', 'tweet_volume': None}, {'name': '#mrmajnu', 'url': 'http://twitter.com/search?q=%23mrmajnu', 'promoted_content': None, 'query': '%23mrmajnu', 'tweet_volume': None}]\n"
     ]
    }
   ],
   "source": [
    "trends = mumbai_trends\n",
    "print(type(trends))\n",
    "print(list(trends[0].keys()))\n",
    "print(trends[0]['trends'])"
   ]
  },
  {
   "cell_type": "markdown",
   "metadata": {},
   "source": [
    "## Displaying the Twitter API Response as Well-Printed JSON using JSON package of python"
   ]
  },
  {
   "cell_type": "code",
   "execution_count": 32,
   "metadata": {},
   "outputs": [
    {
     "name": "stdout",
     "output_type": "stream",
     "text": [
      "[\n",
      " {\n",
      "  \"trends\": [\n",
      "   {\n",
      "    \"name\": \"Merry Christmas\",\n",
      "    \"url\": \"http://twitter.com/search?q=%22Merry+Christmas%22\",\n",
      "    \"promoted_content\": null,\n",
      "    \"query\": \"%22Merry+Christmas%22\",\n",
      "    \"tweet_volume\": 3407408\n",
      "   },\n",
      "   {\n",
      "    \"name\": \"#GinniChatrath\",\n",
      "    \"url\": \"http://twitter.com/search?q=%23GinniChatrath\",\n",
      "    \"promoted_content\": null,\n",
      "    \"query\": \"%23GinniChatrath\",\n",
      "    \"tweet_volume\": null\n",
      "   },\n",
      "   {\n",
      "    \"name\": \"Uddhav Thackeray\",\n",
      "    \"url\": \"http://twitter.com/search?q=%22Uddhav+Thackeray%22\",\n",
      "    \"promoted_content\": null,\n",
      "    \"query\": \"%22Uddhav+Thackeray%22\",\n",
      "    \"tweet_volume\": null\n",
      "   },\n",
      "   {\n",
      "    \"name\": \"#3_\\u0926\\u093f\\u0928_\\u092c\\u093e\\u0926_\\u0938\\u0932\\u092e\\u093e\\u0928_\\u0915\\u093e_\\u091c\\u0928\\u094d\\u092e\\u0926\\u093f\\u0928\",\n",
      "    \"url\": \"http://twitter.com/search?q=%233_%E0%A4%A6%E0%A4%BF%E0%A4%A8_%E0%A4%AC%E0%A4%BE%E0%A4%A6_%E0%A4%B8%E0%A4%B2%E0%A4%AE%E0%A4%BE%E0%A4%A8_%E0%A4%95%E0%A4%BE_%E0%A4%9C%E0%A4%A8%E0%A5%8D%E0%A4%AE%E0%A4%A6%E0%A4%BF%E0%A4%A8\",\n",
      "    \"promoted_content\": null,\n",
      "    \"query\": \"%233_%E0%A4%A6%E0%A4%BF%E0%A4%A8_%E0%A4%AC%E0%A4%BE%E0%A4%A6_%E0%A4%B8%E0%A4%B2%E0%A4%AE%E0%A4%BE%E0%A4%A8_%E0%A4%95%E0%A4%BE_%E0%A4%9C%E0%A4%A8%E0%A5%8D%E0%A4%AE%E0%A4%A6%E0%A4%BF%E0%A4%A8\",\n",
      "    \"tweet_volume\": 17605\n",
      "   },\n",
      "   {\n",
      "    \"name\": \"Sambit Patra\",\n",
      "    \"url\": \"http://twitter.com/search?q=%22Sambit+Patra%22\",\n",
      "    \"promoted_content\": null,\n",
      "    \"query\": \"%22Sambit+Patra%22\",\n",
      "    \"tweet_volume\": null\n",
      "   },\n",
      "   {\n",
      "    \"name\": \"#IPurpleYouDay\",\n",
      "    \"url\": \"http://twitter.com/search?q=%23IPurpleYouDay\",\n",
      "    \"promoted_content\": null,\n",
      "    \"query\": \"%23IPurpleYouDay\",\n",
      "    \"tweet_volume\": 316444\n",
      "   },\n",
      "   {\n",
      "    \"name\": \"#PUNvAWD\",\n",
      "    \"url\": \"http://twitter.com/search?q=%23PUNvAWD\",\n",
      "    \"promoted_content\": null,\n",
      "    \"query\": \"%23PUNvAWD\",\n",
      "    \"tweet_volume\": null\n",
      "   },\n",
      "   {\n",
      "    \"name\": \"#SilukkuvarpattisingamHIT\",\n",
      "    \"url\": \"http://twitter.com/search?q=%23SilukkuvarpattisingamHIT\",\n",
      "    \"promoted_content\": null,\n",
      "    \"query\": \"%23SilukkuvarpattisingamHIT\",\n",
      "    \"tweet_volume\": null\n",
      "   },\n",
      "   {\n",
      "    \"name\": \"Maroof Raza\",\n",
      "    \"url\": \"http://twitter.com/search?q=%22Maroof+Raza%22\",\n",
      "    \"promoted_content\": null,\n",
      "    \"query\": \"%22Maroof+Raza%22\",\n",
      "    \"tweet_volume\": null\n",
      "   },\n",
      "   {\n",
      "    \"name\": \"Justice Zora Singh\",\n",
      "    \"url\": \"http://twitter.com/search?q=%22Justice+Zora+Singh%22\",\n",
      "    \"promoted_content\": null,\n",
      "    \"query\": \"%22Justice+Zora+Singh%22\",\n",
      "    \"tweet_volume\": null\n",
      "   },\n",
      "   {\n",
      "    \"name\": \"\\u0905\\u091f\\u0932 \\u092c\\u093f\\u0939\\u093e\\u0930\\u0940 \\u0935\\u093e\\u091c\\u092a\\u0947\\u092f\\u0940\",\n",
      "    \"url\": \"http://twitter.com/search?q=%22%E0%A4%85%E0%A4%9F%E0%A4%B2+%E0%A4%AC%E0%A4%BF%E0%A4%B9%E0%A4%BE%E0%A4%B0%E0%A5%80+%E0%A4%B5%E0%A4%BE%E0%A4%9C%E0%A4%AA%E0%A5%87%E0%A4%AF%E0%A5%80%22\",\n",
      "    \"promoted_content\": null,\n",
      "    \"query\": \"%22%E0%A4%85%E0%A4%9F%E0%A4%B2+%E0%A4%AC%E0%A4%BF%E0%A4%B9%E0%A4%BE%E0%A4%B0%E0%A5%80+%E0%A4%B5%E0%A4%BE%E0%A4%9C%E0%A4%AA%E0%A5%87%E0%A4%AF%E0%A5%80%22\",\n",
      "    \"tweet_volume\": 10326\n",
      "   },\n",
      "   {\n",
      "    \"name\": \"justin langer\",\n",
      "    \"url\": \"http://twitter.com/search?q=%22justin+langer%22\",\n",
      "    \"promoted_content\": null,\n",
      "    \"query\": \"%22justin+langer%22\",\n",
      "    \"tweet_volume\": null\n",
      "   },\n",
      "   {\n",
      "    \"name\": \"Rohtak-Rewari\",\n",
      "    \"url\": \"http://twitter.com/search?q=Rohtak-Rewari\",\n",
      "    \"promoted_content\": null,\n",
      "    \"query\": \"Rohtak-Rewari\",\n",
      "    \"tweet_volume\": null\n",
      "   },\n",
      "   {\n",
      "    \"name\": \"#\\u0926\\u0947\\u0936\\u0915\\u093e\\u092e\\u0942\\u0921\",\n",
      "    \"url\": \"http://twitter.com/search?q=%23%E0%A4%A6%E0%A5%87%E0%A4%B6%E0%A4%95%E0%A4%BE%E0%A4%AE%E0%A5%82%E0%A4%A1\",\n",
      "    \"promoted_content\": null,\n",
      "    \"query\": \"%23%E0%A4%A6%E0%A5%87%E0%A4%B6%E0%A4%95%E0%A4%BE%E0%A4%AE%E0%A5%82%E0%A4%A1\",\n",
      "    \"tweet_volume\": null\n",
      "   },\n",
      "   {\n",
      "    \"name\": \"#SAvPAK\",\n",
      "    \"url\": \"http://twitter.com/search?q=%23SAvPAK\",\n",
      "    \"promoted_content\": null,\n",
      "    \"query\": \"%23SAvPAK\",\n",
      "    \"tweet_volume\": null\n",
      "   },\n",
      "   {\n",
      "    \"name\": \"#NationalApprovalRatings\",\n",
      "    \"url\": \"http://twitter.com/search?q=%23NationalApprovalRatings\",\n",
      "    \"promoted_content\": null,\n",
      "    \"query\": \"%23NationalApprovalRatings\",\n",
      "    \"tweet_volume\": null\n",
      "   },\n",
      "   {\n",
      "    \"name\": \"#DSSExtendingHelpToPoorGirls\",\n",
      "    \"url\": \"http://twitter.com/search?q=%23DSSExtendingHelpToPoorGirls\",\n",
      "    \"promoted_content\": null,\n",
      "    \"query\": \"%23DSSExtendingHelpToPoorGirls\",\n",
      "    \"tweet_volume\": 29930\n",
      "   },\n",
      "   {\n",
      "    \"name\": \"#SeethakaathiFANTASYticHit\",\n",
      "    \"url\": \"http://twitter.com/search?q=%23SeethakaathiFANTASYticHit\",\n",
      "    \"promoted_content\": null,\n",
      "    \"query\": \"%23SeethakaathiFANTASYticHit\",\n",
      "    \"tweet_volume\": null\n",
      "   },\n",
      "   {\n",
      "    \"name\": \"#MondayMotivation\",\n",
      "    \"url\": \"http://twitter.com/search?q=%23MondayMotivation\",\n",
      "    \"promoted_content\": null,\n",
      "    \"query\": \"%23MondayMotivation\",\n",
      "    \"tweet_volume\": 79616\n",
      "   },\n",
      "   {\n",
      "    \"name\": \"#HappyBirthdayAnilKapoor\",\n",
      "    \"url\": \"http://twitter.com/search?q=%23HappyBirthdayAnilKapoor\",\n",
      "    \"promoted_content\": null,\n",
      "    \"query\": \"%23HappyBirthdayAnilKapoor\",\n",
      "    \"tweet_volume\": null\n",
      "   },\n",
      "   {\n",
      "    \"name\": \"#ViswasamCensoredU\",\n",
      "    \"url\": \"http://twitter.com/search?q=%23ViswasamCensoredU\",\n",
      "    \"promoted_content\": null,\n",
      "    \"query\": \"%23ViswasamCensoredU\",\n",
      "    \"tweet_volume\": 101953\n",
      "   },\n",
      "   {\n",
      "    \"name\": \"#Indonesia\",\n",
      "    \"url\": \"http://twitter.com/search?q=%23Indonesia\",\n",
      "    \"promoted_content\": null,\n",
      "    \"query\": \"%23Indonesia\",\n",
      "    \"tweet_volume\": 60428\n",
      "   },\n",
      "   {\n",
      "    \"name\": \"#KisanDiwas\",\n",
      "    \"url\": \"http://twitter.com/search?q=%23KisanDiwas\",\n",
      "    \"promoted_content\": null,\n",
      "    \"query\": \"%23KisanDiwas\",\n",
      "    \"tweet_volume\": null\n",
      "   },\n",
      "   {\n",
      "    \"name\": \"#MohammedRafi\",\n",
      "    \"url\": \"http://twitter.com/search?q=%23MohammedRafi\",\n",
      "    \"promoted_content\": null,\n",
      "    \"query\": \"%23MohammedRafi\",\n",
      "    \"tweet_volume\": null\n",
      "   },\n",
      "   {\n",
      "    \"name\": \"#NawazSharif\",\n",
      "    \"url\": \"http://twitter.com/search?q=%23NawazSharif\",\n",
      "    \"promoted_content\": null,\n",
      "    \"query\": \"%23NawazSharif\",\n",
      "    \"tweet_volume\": 24660\n",
      "   },\n",
      "   {\n",
      "    \"name\": \"#Chhapaak\",\n",
      "    \"url\": \"http://twitter.com/search?q=%23Chhapaak\",\n",
      "    \"promoted_content\": null,\n",
      "    \"query\": \"%23Chhapaak\",\n",
      "    \"tweet_volume\": null\n",
      "   },\n",
      "   {\n",
      "    \"name\": \"#Sabarimala\",\n",
      "    \"url\": \"http://twitter.com/search?q=%23Sabarimala\",\n",
      "    \"promoted_content\": null,\n",
      "    \"query\": \"%23Sabarimala\",\n",
      "    \"tweet_volume\": 11008\n",
      "   },\n",
      "   {\n",
      "    \"name\": \"#periyar\",\n",
      "    \"url\": \"http://twitter.com/search?q=%23periyar\",\n",
      "    \"promoted_content\": null,\n",
      "    \"query\": \"%23periyar\",\n",
      "    \"tweet_volume\": null\n",
      "   },\n",
      "   {\n",
      "    \"name\": \"#IndianIdol10\",\n",
      "    \"url\": \"http://twitter.com/search?q=%23IndianIdol10\",\n",
      "    \"promoted_content\": null,\n",
      "    \"query\": \"%23IndianIdol10\",\n",
      "    \"tweet_volume\": null\n",
      "   },\n",
      "   {\n",
      "    \"name\": \"#RathYatra\",\n",
      "    \"url\": \"http://twitter.com/search?q=%23RathYatra\",\n",
      "    \"promoted_content\": null,\n",
      "    \"query\": \"%23RathYatra\",\n",
      "    \"tweet_volume\": null\n",
      "   },\n",
      "   {\n",
      "    \"name\": \"#KanneKalaimaane\",\n",
      "    \"url\": \"http://twitter.com/search?q=%23KanneKalaimaane\",\n",
      "    \"promoted_content\": null,\n",
      "    \"query\": \"%23KanneKalaimaane\",\n",
      "    \"tweet_volume\": null\n",
      "   },\n",
      "   {\n",
      "    \"name\": \"#BoxingDayTest\",\n",
      "    \"url\": \"http://twitter.com/search?q=%23BoxingDayTest\",\n",
      "    \"promoted_content\": null,\n",
      "    \"query\": \"%23BoxingDayTest\",\n",
      "    \"tweet_volume\": null\n",
      "   },\n",
      "   {\n",
      "    \"name\": \"#MSDhoni\",\n",
      "    \"url\": \"http://twitter.com/search?q=%23MSDhoni\",\n",
      "    \"promoted_content\": null,\n",
      "    \"query\": \"%23MSDhoni\",\n",
      "    \"tweet_volume\": null\n",
      "   },\n",
      "   {\n",
      "    \"name\": \"#No1YaariPatrol\",\n",
      "    \"url\": \"http://twitter.com/search?q=%23No1YaariPatrol\",\n",
      "    \"promoted_content\": null,\n",
      "    \"query\": \"%23No1YaariPatrol\",\n",
      "    \"tweet_volume\": null\n",
      "   },\n",
      "   {\n",
      "    \"name\": \"#EndhanKangalai\",\n",
      "    \"url\": \"http://twitter.com/search?q=%23EndhanKangalai\",\n",
      "    \"promoted_content\": null,\n",
      "    \"query\": \"%23EndhanKangalai\",\n",
      "    \"tweet_volume\": null\n",
      "   },\n",
      "   {\n",
      "    \"name\": \"#KGFMonsterHit\",\n",
      "    \"url\": \"http://twitter.com/search?q=%23KGFMonsterHit\",\n",
      "    \"promoted_content\": null,\n",
      "    \"query\": \"%23KGFMonsterHit\",\n",
      "    \"tweet_volume\": null\n",
      "   },\n",
      "   {\n",
      "    \"name\": \"#CBSE\",\n",
      "    \"url\": \"http://twitter.com/search?q=%23CBSE\",\n",
      "    \"promoted_content\": null,\n",
      "    \"query\": \"%23CBSE\",\n",
      "    \"tweet_volume\": null\n",
      "   },\n",
      "   {\n",
      "    \"name\": \"#Ayodhya\",\n",
      "    \"url\": \"http://twitter.com/search?q=%23Ayodhya\",\n",
      "    \"promoted_content\": null,\n",
      "    \"query\": \"%23Ayodhya\",\n",
      "    \"tweet_volume\": null\n",
      "   },\n",
      "   {\n",
      "    \"name\": \"#swarooprajsuicide\",\n",
      "    \"url\": \"http://twitter.com/search?q=%23swarooprajsuicide\",\n",
      "    \"promoted_content\": null,\n",
      "    \"query\": \"%23swarooprajsuicide\",\n",
      "    \"tweet_volume\": null\n",
      "   },\n",
      "   {\n",
      "    \"name\": \"#ChristmasWithMonginis\",\n",
      "    \"url\": \"http://twitter.com/search?q=%23ChristmasWithMonginis\",\n",
      "    \"promoted_content\": null,\n",
      "    \"query\": \"%23ChristmasWithMonginis\",\n",
      "    \"tweet_volume\": null\n",
      "   },\n",
      "   {\n",
      "    \"name\": \"#FalsafaTrailer\",\n",
      "    \"url\": \"http://twitter.com/search?q=%23FalsafaTrailer\",\n",
      "    \"promoted_content\": null,\n",
      "    \"query\": \"%23FalsafaTrailer\",\n",
      "    \"tweet_volume\": null\n",
      "   },\n",
      "   {\n",
      "    \"name\": \"#Bakrid\",\n",
      "    \"url\": \"http://twitter.com/search?q=%23Bakrid\",\n",
      "    \"promoted_content\": null,\n",
      "    \"query\": \"%23Bakrid\",\n",
      "    \"tweet_volume\": null\n",
      "   },\n",
      "   {\n",
      "    \"name\": \"#AdangamaruSuperSuccess\",\n",
      "    \"url\": \"http://twitter.com/search?q=%23AdangamaruSuperSuccess\",\n",
      "    \"promoted_content\": null,\n",
      "    \"query\": \"%23AdangamaruSuperSuccess\",\n",
      "    \"tweet_volume\": null\n",
      "   },\n",
      "   {\n",
      "    \"name\": \"#yearender2018\",\n",
      "    \"url\": \"http://twitter.com/search?q=%23yearender2018\",\n",
      "    \"promoted_content\": null,\n",
      "    \"query\": \"%23yearender2018\",\n",
      "    \"tweet_volume\": null\n",
      "   },\n",
      "   {\n",
      "    \"name\": \"#mrmajnu\",\n",
      "    \"url\": \"http://twitter.com/search?q=%23mrmajnu\",\n",
      "    \"promoted_content\": null,\n",
      "    \"query\": \"%23mrmajnu\",\n",
      "    \"tweet_volume\": null\n",
      "   }\n",
      "  ],\n",
      "  \"as_of\": \"2018-12-24T18:26:47Z\",\n",
      "  \"created_at\": \"2018-12-24T18:23:26Z\",\n",
      "  \"locations\": [\n",
      "   {\n",
      "    \"name\": \"India\",\n",
      "    \"woeid\": 23424848\n",
      "   }\n",
      "  ]\n",
      " }\n",
      "]\n"
     ]
    }
   ],
   "source": [
    "import json\n",
    "print((json.dumps(indian_trends[:2],indent =1)))"
   ]
  },
  {
   "cell_type": "markdown",
   "metadata": {},
   "source": [
    "## Now checking the similarity between the Trends using intersection of the different sets of trends"
   ]
  },
  {
   "cell_type": "code",
   "execution_count": 36,
   "metadata": {},
   "outputs": [],
   "source": [
    "trends_set ={}\n",
    "trends_set['world'] = set([trend['name']\n",
    "                          for trend in world_trends[0]['trends']]) \n",
    "trends_set['india'] = set([trend['name']\n",
    "                          for trend in indian_trends[0]['trends']])\n",
    "trends_set['local'] = set([trend['name']\n",
    "                          for trend in mumbai_trends[0]['trends']])"
   ]
  },
  {
   "cell_type": "markdown",
   "metadata": {},
   "source": [
    "##### Joining all the Trends for all location"
   ]
  },
  {
   "cell_type": "code",
   "execution_count": 38,
   "metadata": {
    "scrolled": true
   },
   "outputs": [
    {
     "name": "stdout",
     "output_type": "stream",
     "text": [
      "('----------', 'world')\n",
      "#روح_الرايد_جمهوره,#MoraniChiediScusa,#هديتكم_سياره,Ifan Seventeen,İsmail Çipe,#ElfSchmovies,Mehmet Ekici,#예수_생일축하해,الرييس السوداني,#افضل_لاعب_بالكره_السعوديه,Feliz Navidad,Etna,메리크리스마스,#kerstavond,DJ Swearinger,#شكرا_الفيصل_لغتنا_تستحق,#ElProgramaDeLavecchia,Joyeux Noël,#كفايات_المعلمين_والمعلمات,#DarbeciMetinAyyaşMüjdat,#HogwartsTNT,Rodrigo Eguillor,#ReveillonDeNoel,#ÖğretmneŞubatta40Bin,#明石家サンタ,#قريبا_ستمطر,#24Dic,#ElReyNoTeHabla,Maligayang Pasko,#ijuin,#ShutdownStories,#انجازات_السلام,#ReasonsToBailOnADateIn3Words,AKOM'dan İstanbul,Mnuchin,#JusticeForEastTurkistan,#PistolaAlCentroDemocratico,#TurkcellBoykot,#GinniChatrath,#AdviceFromIntroverts,Merry Christmas,산타할아버지,#BuonNatale2018,#StickerMule,#carolsfromkings,#HappyHolidaysToAll\n",
      "('----------', 'india')\n",
      "#DSSExtendingHelpToPoorGirls,#EndhanKangalai,Uddhav Thackeray,#mrmajnu,#Sabarimala,#KanneKalaimaane,#PUNvAWD,#3_दिन_बाद_सलमान_का_जन्मदिन,#NationalApprovalRatings,#Bakrid,Maroof Raza,#MondayMotivation,#HappyBirthdayAnilKapoor,#periyar,#FalsafaTrailer,#SilukkuvarpattisingamHIT,#swarooprajsuicide,#NawazSharif,#IndianIdol10,#RathYatra,#KGFMonsterHit,#MohammedRafi,#IPurpleYouDay,Justice Zora Singh,Sambit Patra,#Ayodhya,#AdangamaruSuperSuccess,#No1YaariPatrol,#Indonesia,#देशकामूड,#GinniChatrath,#Chhapaak,#yearender2018,अटल बिहारी वाजपेयी,#CBSE,#SAvPAK,#ChristmasWithMonginis,Rohtak-Rewari,Merry Christmas,justin langer,#KisanDiwas,#BoxingDayTest,#SeethakaathiFANTASYticHit,#MSDhoni,#ViswasamCensoredU\n",
      "('----------', 'local')\n",
      "#DSSExtendingHelpToPoorGirls,#EndhanKangalai,Uddhav Thackeray,#mrmajnu,#Sabarimala,#KanneKalaimaane,#PUNvAWD,#3_दिन_बाद_सलमान_का_जन्मदिन,#NationalApprovalRatings,#Bakrid,Maroof Raza,#MondayMotivation,#HappyBirthdayAnilKapoor,#periyar,#FalsafaTrailer,#SilukkuvarpattisingamHIT,#swarooprajsuicide,#NawazSharif,#IndianIdol10,#RathYatra,#KGFMonsterHit,#MohammedRafi,#IPurpleYouDay,Justice Zora Singh,Sambit Patra,#Ayodhya,#AdangamaruSuperSuccess,#No1YaariPatrol,#Indonesia,#देशकामूड,#GinniChatrath,#Chhapaak,#yearender2018,अटल बिहारी वाजपेयी,#CBSE,#SAvPAK,#ChristmasWithMonginis,Rohtak-Rewari,Merry Christmas,justin langer,#KisanDiwas,#BoxingDayTest,#SeethakaathiFANTASYticHit,#MSDhoni,#ViswasamCensoredU\n"
     ]
    }
   ],
   "source": [
    "for loc in ['world','india','local']:\n",
    "    print(('-'*10,loc))\n",
    "    print((','.join(trends_set[loc])))\n"
   ]
  },
  {
   "cell_type": "markdown",
   "metadata": {},
   "source": [
    "#### Now for similarity between the Various set of Trends We do intersections using the intersection function of set object"
   ]
  },
  {
   "cell_type": "code",
   "execution_count": 41,
   "metadata": {},
   "outputs": [
    {
     "name": "stdout",
     "output_type": "stream",
     "text": [
      "('==========', 'intersection of world and indian trends')\n",
      "{'Merry Christmas', '#GinniChatrath'}\n"
     ]
    }
   ],
   "source": [
    "# Similarity Between World trends and Indian Trends\n",
    "print(('='*10,'intersection of world and indian trends'))\n",
    "print((trends_set['world'].intersection(trends_set['india'])))"
   ]
  },
  {
   "cell_type": "code",
   "execution_count": 42,
   "metadata": {},
   "outputs": [
    {
     "name": "stdout",
     "output_type": "stream",
     "text": [
      "('==========', 'intersection of Indian and Local (Mumbai) trends')\n",
      "{'#DSSExtendingHelpToPoorGirls', '#EndhanKangalai', 'Uddhav Thackeray', '#mrmajnu', '#Sabarimala', '#KanneKalaimaane', '#PUNvAWD', '#3_दिन_बाद_सलमान_का_जन्मदिन', '#NationalApprovalRatings', '#Bakrid', 'Maroof Raza', '#MondayMotivation', '#HappyBirthdayAnilKapoor', '#periyar', '#FalsafaTrailer', '#SilukkuvarpattisingamHIT', '#swarooprajsuicide', '#NawazSharif', '#IndianIdol10', '#RathYatra', '#KGFMonsterHit', '#MohammedRafi', '#IPurpleYouDay', 'Justice Zora Singh', 'Sambit Patra', '#Ayodhya', '#AdangamaruSuperSuccess', '#No1YaariPatrol', '#Indonesia', '#देशकामूड', '#GinniChatrath', '#Chhapaak', '#yearender2018', 'अटल बिहारी वाजपेयी', '#CBSE', '#SAvPAK', '#ChristmasWithMonginis', 'Rohtak-Rewari', 'Merry Christmas', 'justin langer', '#KisanDiwas', '#BoxingDayTest', '#SeethakaathiFANTASYticHit', '#MSDhoni', '#ViswasamCensoredU'}\n"
     ]
    }
   ],
   "source": [
    "# Similarity Between Local(Mumbai) trends and Indian Trends\n",
    "print(('='*10,'intersection of Indian and Local (Mumbai) trends'))\n",
    "print((trends_set['india'].intersection(trends_set['local'])))"
   ]
  }
 ],
 "metadata": {
  "kernelspec": {
   "display_name": "Python 3",
   "language": "python",
   "name": "python3"
  },
  "language_info": {
   "codemirror_mode": {
    "name": "ipython",
    "version": 3
   },
   "file_extension": ".py",
   "mimetype": "text/x-python",
   "name": "python",
   "nbconvert_exporter": "python",
   "pygments_lexer": "ipython3",
   "version": "3.6.5"
  }
 },
 "nbformat": 4,
 "nbformat_minor": 2
}
